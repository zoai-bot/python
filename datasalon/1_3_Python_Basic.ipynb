{
 "cells": [
  {
   "cell_type": "markdown",
   "metadata": {},
   "source": [
    "# 1.3 파이썬 맛보기"
   ]
  },
  {
   "cell_type": "markdown",
   "metadata": {},
   "source": [
    "## 1.3.1 파이썬 코드 입력 및 실행"
   ]
  },
  {
   "cell_type": "code",
   "execution_count": null,
   "metadata": {},
   "outputs": [],
   "source": [
    "# 예제 1-1 셀단위 코드 입력/실행/주석\n",
    "print(\"안녕하세요\")"
   ]
  },
  {
   "cell_type": "code",
   "execution_count": null,
   "metadata": {},
   "outputs": [],
   "source": [
    "# 예제 1-2 셀단위 코드 입력/실행/주석\n",
    "print(\"Hi\")\n",
    "# 주석: # 뒤에 나온 부분은 주석으로 실행되지 않습니다.  "
   ]
  },
  {
   "cell_type": "markdown",
   "metadata": {},
   "source": [
    "## 1.3.2. 값 입력 및 출력"
   ]
  },
  {
   "cell_type": "code",
   "execution_count": null,
   "metadata": {},
   "outputs": [],
   "source": [
    "# 예제 1-3 변수 입력 및 화면 출력\n",
    "a = 9\n",
    "b = 5"
   ]
  },
  {
   "cell_type": "code",
   "execution_count": null,
   "metadata": {
    "scrolled": true
   },
   "outputs": [],
   "source": [
    "# 예제 1-4 사칙연산 화면에 출력하기  \n",
    "print( a + b )    # 더하기\n",
    "print( a - b )    # 빼기\n",
    "print( a * b )    # 곱하기\n",
    "print( a / b )    # 나누기\n",
    "print( a // b )   # 나눈 몫\n",
    "print( a % b )    # 나눈 나머지"
   ]
  },
  {
   "cell_type": "code",
   "execution_count": null,
   "metadata": {},
   "outputs": [],
   "source": [
    "# 예제 1-5 변수 여러 개 출력하기  \n",
    "print('파이썬', '데이터분석입문',' PlaywithData','데이터수집')"
   ]
  },
  {
   "cell_type": "markdown",
   "metadata": {},
   "source": [
    "print(값)  : 화면에 출력  << 값 >>"
   ]
  },
  {
   "cell_type": "code",
   "execution_count": null,
   "metadata": {
    "scrolled": true
   },
   "outputs": [],
   "source": [
    "# 예제  1-6 변수 여러 개 출력하기  \n",
    "print('귤','사과','배',sep = ' / ')     "
   ]
  },
  {
   "cell_type": "markdown",
   "metadata": {},
   "source": [
    "## 1.3.3 리스트"
   ]
  },
  {
   "cell_type": "code",
   "execution_count": null,
   "metadata": {},
   "outputs": [],
   "source": [
    "# 예제 1-7 리스트 자료 입력\n",
    "print( '1번','2번','3번','4번','5번','6번','7번','8번','9번','10번')\n",
    "class_2_1= [ '1번','2번','3번','4번','5번','6번','7번','8번','9번','10번' ] \n",
    "print(class_2_1)"
   ]
  },
  {
   "cell_type": "code",
   "execution_count": null,
   "metadata": {},
   "outputs": [],
   "source": [
    "# 예제 1-8 리스트 자료 내 원소 1개 선택하기: 인덱스 번호 활용\n",
    "k    =   ['a','b','c','d','e']\n",
    "#index    0   1   2   3   4\n",
    "#index   -5  -4   -3  -2  -1\n",
    "\n",
    "print( k[1] )      "
   ]
  },
  {
   "cell_type": "code",
   "execution_count": null,
   "metadata": {},
   "outputs": [],
   "source": [
    "# 예제 1-9 리스트 자료 구간별 글자 선택하기: 슬라이싱\n",
    "# list [인덱스시작번호: 끝 다음 번호] \n",
    "k     =  ['a', 'b','c','d','e']\n",
    "#index      0   1   2   3   4\n",
    "#index     -5  -4   -3  -2  -1\n",
    "print( k[ 1 : 3 ] )         \n",
    "print( k[ -4 : -2 ] )      "
   ]
  },
  {
   "cell_type": "code",
   "execution_count": null,
   "metadata": {
    "scrolled": false
   },
   "outputs": [],
   "source": [
    "# 예제 1-10 리스트 합치기: 리스트1 + 리스트2\n",
    "# A + B\n",
    "l1 = ['a']\n",
    "l2 = ['b','c','e']\n",
    "print(l1 + l2)    \n",
    "print(l2 + l1)    "
   ]
  },
  {
   "cell_type": "code",
   "execution_count": null,
   "metadata": {},
   "outputs": [],
   "source": [
    "# 예제 1-11 리스트 추가하기(하나의 원소로 붙이기): 리스트1.append(리스트2)\n",
    "l1 = ['a']\n",
    "l2 = ['b','c','e']\n",
    "l1.append(l2)      \n",
    "print(l1)"
   ]
  },
  {
   "cell_type": "markdown",
   "metadata": {},
   "source": [
    "## 1.3.4 반복문"
   ]
  },
  {
   "cell_type": "code",
   "execution_count": null,
   "metadata": {},
   "outputs": [],
   "source": [
    "# 예제 1-12 반복문 활용하기\n",
    "fruits = ['바나나','사과','딸기','배','감']\n",
    "for fruit in fruits:\n",
    "    print(fruit)     \n"
   ]
  },
  {
   "cell_type": "markdown",
   "metadata": {},
   "source": [
    "## 1.3.5 문자열"
   ]
  },
  {
   "cell_type": "code",
   "execution_count": null,
   "metadata": {},
   "outputs": [],
   "source": [
    "# 예제 1-13 문자열 입/출력\n",
    "s = '문자'\n",
    "print(s)"
   ]
  },
  {
   "cell_type": "code",
   "execution_count": null,
   "metadata": {},
   "outputs": [],
   "source": [
    "# 예제 1-14 문자열 합치기(+)\n",
    "a = \"사과\"\n",
    "b = \"망고, 파인애플\"\n",
    "ab = a + b\n",
    "print(ab)    "
   ]
  },
  {
   "cell_type": "code",
   "execution_count": null,
   "metadata": {},
   "outputs": [],
   "source": [
    "# 예제 1-15 문자열 반복하기(*)\n",
    "z = “*”\n",
    "print( z * 10)    "
   ]
  },
  {
   "cell_type": "code",
   "execution_count": null,
   "metadata": {},
   "outputs": [],
   "source": [
    "# 예제 1-16 문자열 포매팅\n",
    "month = \"2월\"\n",
    "day = \"20일\"\n",
    "say = \"{} {}은 일요일입니다\".format(month, day)\n",
    "print(say)    \n"
   ]
  },
  {
   "cell_type": "code",
   "execution_count": null,
   "metadata": {},
   "outputs": [],
   "source": [
    "# 예제 1-17 문자열 일부 선택하기: 인덱스, 슬라이싱\n",
    "k       =   \"가나다라마바\"\n",
    "# index      0 1 2 3 4 5\n",
    "# index     -6-5-4-3-2-1 \n",
    "print(k[2])      \n",
    "print(k[-1])     \n",
    "print(k[2:5])    \n",
    "print(k[3:])     \n"
   ]
  },
  {
   "cell_type": "code",
   "execution_count": null,
   "metadata": {},
   "outputs": [],
   "source": [
    "# 예제 1-18 문자열 정리하기: strip(), replace(a,b), split()\n",
    "t1 = \"   hp010-0000-0000   \"\n",
    "print(t1)\n",
    "t2 = t1.strip()\n",
    "print(t2) \n",
    "t3 = t2.replace('hp', ' ')   \n",
    "print(t3)      \n",
    "t4 = t3.split('-')\n",
    "print(t4)      "
   ]
  },
  {
   "cell_type": "markdown",
   "metadata": {},
   "source": [
    "## 1.3.6 조건문"
   ]
  },
  {
   "cell_type": "code",
   "execution_count": null,
   "metadata": {},
   "outputs": [],
   "source": [
    "# 예제 1-19 if 조건문 사용하기\n",
    "price = 5000\n",
    "if price > 3000:\n",
    "    print('비싸다')\n",
    "else:\n",
    "    print('저렴하다')"
   ]
  },
  {
   "cell_type": "markdown",
   "metadata": {},
   "source": [
    "## 1.3.7 함수"
   ]
  },
  {
   "cell_type": "code",
   "execution_count": null,
   "metadata": {},
   "outputs": [],
   "source": [
    "# 예제 1-20 함수 예제: 자기 소개\n",
    "def say_name(name):\n",
    "    print('안녕하세요')\n",
    "    print('제 이름은' + name + '입니다')\n",
    "\n",
    "say_name( '홍길동' )\n"
   ]
  },
  {
   "cell_type": "code",
   "execution_count": null,
   "metadata": {},
   "outputs": [],
   "source": [
    "# 예제 1 21 지수 곱 함수만들기\n",
    "def calcul(a,b):\n",
    "    result = a**b\n",
    "    return result\n",
    "\n",
    "test = calcul(10,3)\n",
    "print(test)        \n"
   ]
  },
  {
   "cell_type": "code",
   "execution_count": null,
   "metadata": {},
   "outputs": [],
   "source": []
  }
 ],
 "metadata": {
  "kernelspec": {
   "display_name": "Python 3",
   "language": "python",
   "name": "python3"
  },
  "language_info": {
   "codemirror_mode": {
    "name": "ipython",
    "version": 3
   },
   "file_extension": ".py",
   "mimetype": "text/x-python",
   "name": "python",
   "nbconvert_exporter": "python",
   "pygments_lexer": "ipython3",
   "version": "3.7.4"
  }
 },
 "nbformat": 4,
 "nbformat_minor": 2
}
