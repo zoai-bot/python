{
 "cells": [
  {
   "cell_type": "markdown",
   "metadata": {},
   "source": [
    "# 2.1. pandas 맛보기"
   ]
  },
  {
   "cell_type": "markdown",
   "metadata": {},
   "source": [
    "## 2.1.2 데이터 불러오기 (pd.read_excel)"
   ]
  },
  {
   "cell_type": "code",
   "execution_count": null,
   "metadata": {},
   "outputs": [],
   "source": [
    "# 예제 2-1 pandas 라이브러리 불러오기\n",
    "import pandas as pd "
   ]
  },
  {
   "cell_type": "code",
   "execution_count": null,
   "metadata": {},
   "outputs": [],
   "source": [
    "# 예제 2-2 sample_1.xlsx 엑셀데이터 불러오기\n",
    "sample_1 = pd.read_excel('./files/sample_1.xlsx', \n",
    "                         header=1, \n",
    "                         skipfooter=2, \n",
    "                         usecols='A:C')\n",
    "sample_1.head(3)"
   ]
  },
  {
   "cell_type": "code",
   "execution_count": null,
   "metadata": {},
   "outputs": [],
   "source": [
    "# 예제 2-3 tail() 함수 활용\n",
    "sample_1.tail(3)"
   ]
  },
  {
   "cell_type": "code",
   "execution_count": null,
   "metadata": {},
   "outputs": [],
   "source": [
    "# 예제 2-4 sample_1 데이터 정보 살펴보기 \n",
    "sample_1.info()"
   ]
  },
  {
   "cell_type": "code",
   "execution_count": null,
   "metadata": {},
   "outputs": [],
   "source": [
    "# 예제 2-5 sample1_ 데이터 기초통계량 확인 \n",
    "sample_1.describe()"
   ]
  },
  {
   "cell_type": "markdown",
   "metadata": {},
   "source": [
    "## 2.1.3. 데이터 선택하기① - 컬럼(Column) 기준"
   ]
  },
  {
   "cell_type": "code",
   "execution_count": null,
   "metadata": {},
   "outputs": [],
   "source": [
    "# 예제 2-6 sample_1 데이터 확인하기 \n",
    "sample_1"
   ]
  },
  {
   "cell_type": "code",
   "execution_count": null,
   "metadata": {},
   "outputs": [],
   "source": [
    "# 예제 2-7 한 개 컬럼 선택하기 \n",
    "sample_1['입국객수']"
   ]
  },
  {
   "cell_type": "code",
   "execution_count": null,
   "metadata": {},
   "outputs": [],
   "source": [
    "# 예제 2-8 여러 컬럼 선택하기 \n",
    "sample_1[['국적코드', '입국객수']]"
   ]
  },
  {
   "cell_type": "code",
   "execution_count": null,
   "metadata": {},
   "outputs": [],
   "source": [
    "# 예제 2-9 컬럼 생성하기 \n",
    "sample_1['기준년월'] = '2019-11'\n",
    "sample_1 "
   ]
  },
  {
   "cell_type": "markdown",
   "metadata": {},
   "source": [
    "## 2.1.4. 데이터 선택하기② - 로우(Row) 기준"
   ]
  },
  {
   "cell_type": "code",
   "execution_count": null,
   "metadata": {},
   "outputs": [],
   "source": [
    "# 예제 2-10 필터링하기 1\n",
    "condition = (sample_1['성별'] == '남성')\n",
    "condition"
   ]
  },
  {
   "cell_type": "code",
   "execution_count": null,
   "metadata": {
    "scrolled": true
   },
   "outputs": [],
   "source": [
    "# 예제 2-11 필터링하기 2\n",
    "sample_1[condition]"
   ]
  },
  {
   "cell_type": "code",
   "execution_count": null,
   "metadata": {},
   "outputs": [],
   "source": [
    "# 예제 2-12 필터링하기 3\n",
    "condition = (sample_1['입국객수'] >= 150000) \n",
    "sample_1[condition]"
   ]
  },
  {
   "cell_type": "code",
   "execution_count": null,
   "metadata": {},
   "outputs": [],
   "source": [
    "# 예제 2-13 데이터 확인하기 \n",
    "sample_1"
   ]
  },
  {
   "cell_type": "code",
   "execution_count": null,
   "metadata": {},
   "outputs": [],
   "source": [
    "# 예제 2-14 두 개 컬럼에 필터링하기 1\n",
    "conditions = (sample_1['성별'] == '남성') & (sample_1['입국객수'] >= 150000)\n",
    "conditions"
   ]
  },
  {
   "cell_type": "code",
   "execution_count": null,
   "metadata": {},
   "outputs": [],
   "source": [
    "# 예제 2-15 두 개 컬럼에 필터링하기 2\n",
    "sample_1[conditions]"
   ]
  },
  {
   "cell_type": "code",
   "execution_count": null,
   "metadata": {},
   "outputs": [],
   "source": [
    "# 예제 2-16 두 개 컬럼에 필터링하기 3 - 가독성 좋게 표현하기 \n",
    "conditions = (sample_1['성별'] == '남성') \\\n",
    "    & (sample_1['입국객수'] >= 150000)\n",
    "\n",
    "sample_1[conditions]"
   ]
  },
  {
   "cell_type": "code",
   "execution_count": null,
   "metadata": {},
   "outputs": [],
   "source": [
    "# 예제 2-17 한 컬럼에 여러 조건 필터링하기 1\n",
    "conditions = (sample_1['국적코드'] == 'A01') \\\n",
    "                | (sample_1['국적코드'] == 'A18')\n",
    "sample_1[conditions]"
   ]
  },
  {
   "cell_type": "code",
   "execution_count": null,
   "metadata": {},
   "outputs": [],
   "source": [
    "# 예제 2-18 한 컬럼에 여러 조건 필터링하기 2 \n",
    "conditions = (sample_1['국적코드'].isin(['A01', 'A18'])) \n",
    "conditions "
   ]
  },
  {
   "cell_type": "code",
   "execution_count": null,
   "metadata": {},
   "outputs": [],
   "source": [
    "# 예제 2-19 한 컬럼에 여러 조건 필터링하기 3\n",
    "sample_1[conditions]"
   ]
  },
  {
   "cell_type": "code",
   "execution_count": null,
   "metadata": {},
   "outputs": [],
   "source": [
    "# 예제 2-20 한 컬럼에 여러 조건 필터링하기 4\n",
    "conditions = (sample_1['국적코드'].isin(['A01', 'A18'])) \n",
    "sample_1[conditions == False]"
   ]
  },
  {
   "cell_type": "markdown",
   "metadata": {},
   "source": [
    "## 2.1.5. 데이터 통합하기① - 옆으로 통합(pd.merge)"
   ]
  },
  {
   "cell_type": "code",
   "execution_count": null,
   "metadata": {},
   "outputs": [],
   "source": [
    "# 예제 2-21 데이터 확인하기 \n",
    "sample_1"
   ]
  },
  {
   "cell_type": "code",
   "execution_count": null,
   "metadata": {},
   "outputs": [],
   "source": [
    "# 예제 2-22 국적코드표 엑셀파일 불러오기 \n",
    "code_master = pd.read_excel('./files/sample_codemaster.xlsx')\n",
    "code_master"
   ]
  },
  {
   "cell_type": "code",
   "execution_count": null,
   "metadata": {},
   "outputs": [],
   "source": [
    "# 예제 2-23 데이터 옆으로 통합하기(left 조건) \n",
    "sample_1_code = pd.merge(left=sample_1, \n",
    "                         right=code_master,\n",
    "                         how='left',\n",
    "                         left_on='국적코드',\n",
    "                         right_on='국적코드')\n",
    "sample_1_code"
   ]
  },
  {
   "cell_type": "code",
   "execution_count": null,
   "metadata": {},
   "outputs": [],
   "source": [
    "# 예제 2-24 데이터 옆으로 통합하기(inner 조건) \n",
    "sample_1_code_inner = pd.merge(left=sample_1, \n",
    "                               right=code_master,\n",
    "                               how='inner',\n",
    "                               left_on='국적코드',\n",
    "                               right_on='국적코드')\n",
    "sample_1_code_inner"
   ]
  },
  {
   "cell_type": "markdown",
   "metadata": {},
   "source": [
    "## 2.1.6. 데이터 통합하기② - 아래로 통합(pd.append)"
   ]
  },
  {
   "cell_type": "code",
   "execution_count": null,
   "metadata": {},
   "outputs": [],
   "source": [
    "# 예제 2-25 sample_2_code 만들기\n",
    "sample_2 = pd.read_excel('./files/sample_2.xlsx', \n",
    "                         header=1, \n",
    "                         skipfooter=2, \n",
    "                         usecols='A:C')\n",
    "sample_2['기준년월']='2019-12'\n",
    "sample_2_code = pd.merge(left=sample_2, \n",
    "                         right=code_master,\n",
    "                         how='left',\n",
    "                         left_on='국적코드',\n",
    "                         right_on='국적코드')\n",
    "sample_2_code"
   ]
  },
  {
   "cell_type": "code",
   "execution_count": null,
   "metadata": {},
   "outputs": [],
   "source": [
    "# 예제 2-26 sample_1_code 확인하기 \n",
    "sample_1_code"
   ]
  },
  {
   "cell_type": "code",
   "execution_count": null,
   "metadata": {},
   "outputs": [],
   "source": [
    "# 예제 2-27 데이터 아래로 통합하기 1\n",
    "sample = sample_1_code.append(sample_2_code, ignore_index=True)\n",
    "sample"
   ]
  },
  {
   "cell_type": "code",
   "execution_count": null,
   "metadata": {},
   "outputs": [],
   "source": [
    "# 예제 2-28 데이터 아래로 통합하기 2\n",
    "sample_1_code.append(sample_2_code)"
   ]
  },
  {
   "cell_type": "markdown",
   "metadata": {},
   "source": [
    "## 2.1.7. 데이터 저장하기(to_excel)"
   ]
  },
  {
   "cell_type": "code",
   "execution_count": null,
   "metadata": {},
   "outputs": [],
   "source": [
    "# 예제 2-29 sample 데이터 확인하기 \n",
    "sample "
   ]
  },
  {
   "cell_type": "code",
   "execution_count": null,
   "metadata": {},
   "outputs": [],
   "source": [
    "# 예제 2-30 sample 데이터 엑셀파일로 저장하기 1\n",
    "sample.to_excel('./files/sample.xlsx')"
   ]
  },
  {
   "cell_type": "code",
   "execution_count": null,
   "metadata": {},
   "outputs": [],
   "source": [
    "# 예제 2-31 sample 데이터 엑셀파일로 저장하기 2\n",
    "sample.to_excel('./files/sample_index_false.xlsx', index=False)"
   ]
  },
  {
   "cell_type": "markdown",
   "metadata": {},
   "source": [
    "## 2.1.8. 데이터 집계하기(pivot_table)"
   ]
  },
  {
   "cell_type": "code",
   "execution_count": null,
   "metadata": {},
   "outputs": [],
   "source": [
    "# 예제 2-32 pivot_table() 함수 활용하기 1\n",
    "sample_pivot = sample.pivot_table(values='입국객수',\n",
    "                                  index='국적명',\n",
    "                                  columns='기준년월',\n",
    "                                  aggfunc='mean' )\n",
    "sample_pivot"
   ]
  },
  {
   "cell_type": "code",
   "execution_count": null,
   "metadata": {},
   "outputs": [],
   "source": [
    "# 예제 2-33 pivot_table() 함수 활용하기 2\n",
    "sample_pivot_2 = sample.pivot_table(values='입국객수',\n",
    "                                    index='국적명',\n",
    "                                    aggfunc='max')\n",
    "sample_pivot_2"
   ]
  }
 ],
 "metadata": {
  "kernelspec": {
   "display_name": "Python 3",
   "language": "python",
   "name": "python3"
  },
  "language_info": {
   "codemirror_mode": {
    "name": "ipython",
    "version": 3
   },
   "file_extension": ".py",
   "mimetype": "text/x-python",
   "name": "python",
   "nbconvert_exporter": "python",
   "pygments_lexer": "ipython3",
   "version": "3.7.4"
  }
 },
 "nbformat": 4,
 "nbformat_minor": 2
}
