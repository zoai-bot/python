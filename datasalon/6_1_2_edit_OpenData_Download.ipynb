{
 "cells": [
  {
   "cell_type": "markdown",
   "metadata": {},
   "source": [
    "# 서울 열린데이터 광장 OPEN API 서비스 종료에 따라 실습코드를 변경합니다\n",
    "- 대상 API: `서울시 주민등록인구(구별) 통계`, `서울시 사업체현황 (산업대분류별/동별) 통계` \n",
    "- 실습파일(변경전) : 6_1_2_OpenData_API.ipynb\n",
    "- 실습파일(변경후) : 6_1_2_`edit`_OpenData_`Download`.ipynb\n",
    "- 변경내용:   API 사용하기 → 데이터 다운 받기(txt)\n",
    "\n",
    "* updated 2021.01.07 "
   ]
  },
  {
   "cell_type": "markdown",
   "metadata": {},
   "source": [
    "## 자료 다운 상세설명 보기 : http://bit.ly/pwd_seouldata_guide\n",
    "### ① '서울시 주민등록인구 (구별) 통계' 데이터 직접 다운로드 받기\n",
    "- https://data.seoul.go.kr/dataList/104/S/2/datasetView.do\n",
    "- 파일 저장위치 및 파일명 : `./files/report.txt`\n",
    "\n",
    "### ② '서울시 사업체현황 (산업대분류별/동별) 통계' 데이터 직접 다운로드 받기\n",
    "- https://data.seoul.go.kr/dataList/419/S/2/datasetView.do\n",
    "- 파일 저장위치 및 파일명 : `./files/report2.txt`"
   ]
  },
  {
   "cell_type": "markdown",
   "metadata": {},
   "source": [
    "---"
   ]
  },
  {
   "cell_type": "markdown",
   "metadata": {},
   "source": [
    "## 6.1.2 서울열린데이터광장 공공데이터 수집 및 정리"
   ]
  },
  {
   "cell_type": "code",
   "execution_count": null,
   "metadata": {},
   "outputs": [],
   "source": [
    "# 예제 6-13  라이브러리 임포트\n",
    "import requests\n",
    "import pandas as pd"
   ]
  },
  {
   "cell_type": "code",
   "execution_count": null,
   "metadata": {},
   "outputs": [],
   "source": [
    "# 예제 6-25 서울시 구별 주민등록인구통계 데이터 가져오기  * txt파일 열기로 코드 변경(updated 2021.01.07)\n",
    "sgg_pop_df = pd.read_csv('./files/report.txt', sep='\\t', header=2)\n",
    "columns = {\n",
    "    '기간': 'GIGAN',\n",
    "    '자치구': 'JACHIGU',\n",
    "    '계': 'GYE_1',\n",
    "    '계.1': 'GYE_2',\n",
    "    '계.2': 'GYE_3',\n",
    "    '남자': 'NAMJA_1',\n",
    "    '남자.1': 'NAMJA_2',\n",
    "    '남자.2': 'NAMJA_3',\n",
    "    '여자': 'YEOJA_1',\n",
    "    '여자.1': 'YEOJA_2',\n",
    "    '여자.2': 'YEOJA_3',\n",
    "    '세대': 'SEDAE',\n",
    "    '세대당인구': 'SEDAEDANGINGU',\n",
    "    '65세이상고령자': 'N_65SEISANGGORYEONGJA'\n",
    "}\n",
    "sgg_pop_df.rename(columns = columns, inplace = True)"
   ]
  },
  {
   "cell_type": "code",
   "execution_count": null,
   "metadata": {
    "scrolled": true
   },
   "outputs": [],
   "source": [
    "# 예제 6-26 서울시 시군구 인구 데이터 살펴보기\n",
    "sgg_pop_df.head()"
   ]
  },
  {
   "cell_type": "code",
   "execution_count": null,
   "metadata": {},
   "outputs": [],
   "source": [
    "# 예제 6-27  서울시 구별 주민등록인구 데이터프레임의 요약 정보 확인\n",
    "sgg_pop_df.info()"
   ]
  },
  {
   "cell_type": "code",
   "execution_count": null,
   "metadata": {},
   "outputs": [],
   "source": [
    "# 예제 6-28 필요없는 데이터 제거\n",
    "condition = sgg_pop_df['JACHIGU'] != '합계'\n",
    "sgg_pop_df_selected = sgg_pop_df[condition]\n",
    "sgg_pop_df_selected.head()"
   ]
  },
  {
   "cell_type": "code",
   "execution_count": null,
   "metadata": {},
   "outputs": [],
   "source": [
    "# 예제 6-29 서울시 구별 주민등록인구 데이터프레임의 요약 정보 확인\n",
    "sgg_pop_df_selected.info()"
   ]
  },
  {
   "cell_type": "code",
   "execution_count": null,
   "metadata": {},
   "outputs": [],
   "source": [
    "# 예제 6-30  분석에 필요한 칼럼 선택\n",
    "columns = ['JACHIGU', 'GYE_1']\n",
    "sgg_pop_df_final = sgg_pop_df_selected[columns]"
   ]
  },
  {
   "cell_type": "code",
   "execution_count": null,
   "metadata": {},
   "outputs": [],
   "source": [
    "# 예제 6-31 선택된 칼럼 확인\n",
    "sgg_pop_df_final.head()"
   ]
  },
  {
   "cell_type": "code",
   "execution_count": null,
   "metadata": {},
   "outputs": [],
   "source": [
    "# 예제 6-32 데이터프레임의 칼럼명 변경\n",
    "sgg_pop_df_final.columns = ['시군구명', '주민등록인구']\n",
    "sgg_pop_df_final.info()\n",
    "sgg_pop_df_final.head()"
   ]
  },
  {
   "cell_type": "code",
   "execution_count": null,
   "metadata": {},
   "outputs": [],
   "source": [
    "# 예제 6-33 엑셀로 저장\n",
    "sgg_pop_df_final.to_excel('./files/sgg_pop.xlsx', index=False)"
   ]
  },
  {
   "cell_type": "code",
   "execution_count": null,
   "metadata": {},
   "outputs": [],
   "source": [
    "# 예제 6-34 서울시 동별 사업체현황 통계 데이터 가져오기  * txt파일 열기로 코드 변경(updated 2021.01.07)\n",
    "sgg_biz_df = pd.read_csv('./files/report2.txt', sep='\\t', header=2)\n",
    "columns = {\n",
    "    '기간': 'GIGAN',\n",
    "    '자치구': 'JACHIGU',\n",
    "    '동': 'DONG',\n",
    "    '사업체수': 'SAEOPCHESU_1',\n",
    "    '여성대표자': 'YEOSEONGDAEPYOJA',\n",
    "    '계': 'GYE',\n",
    "    '남': 'NAM',\n",
    "    '여': 'YEO'\n",
    "}\n",
    "sgg_biz_df.rename(columns = columns, inplace = True)\n",
    "sgg_biz_df.head(10)"
   ]
  },
  {
   "cell_type": "code",
   "execution_count": null,
   "metadata": {},
   "outputs": [],
   "source": [
    "# 예제 6-35  시군구별 사업체 현황 데이터 추출\n",
    "condition = sgg_biz_df['DONG'] == '소계'\n",
    "sgg_biz_df_selected = sgg_biz_df[condition]\n",
    "sgg_biz_df_selected.head(10)"
   ]
  },
  {
   "cell_type": "code",
   "execution_count": null,
   "metadata": {},
   "outputs": [],
   "source": [
    "# 예제 6-36 필요없는 칼럼 제거\n",
    "columns = ['JACHIGU', 'GYE', 'SAEOPCHESU_1']\n",
    "sgg_biz_df_final = sgg_biz_df_selected [columns]\n",
    "sgg_biz_df_final.columns = ['시군구명', '종사자수','사업체수']\n",
    "sgg_biz_df_final.head()"
   ]
  },
  {
   "cell_type": "code",
   "execution_count": null,
   "metadata": {},
   "outputs": [],
   "source": [
    "# 예제 6-37  데이터프레임의 인덱스 초기화\n",
    "sgg_biz_df_final = sgg_biz_df_final.reset_index(drop=True)\n",
    "sgg_biz_df_final.head()"
   ]
  },
  {
   "cell_type": "code",
   "execution_count": null,
   "metadata": {},
   "outputs": [],
   "source": [
    "# 예제 6-38  엑셀로 저장\n",
    "sgg_biz_df_final.to_excel('./files/sgg_biz.xlsx', index=False)"
   ]
  }
 ],
 "metadata": {
  "kernelspec": {
   "display_name": "Python 3",
   "language": "python",
   "name": "python3"
  },
  "language_info": {
   "codemirror_mode": {
    "name": "ipython",
    "version": 3
   },
   "file_extension": ".py",
   "mimetype": "text/x-python",
   "name": "python",
   "nbconvert_exporter": "python",
   "pygments_lexer": "ipython3",
   "version": "3.8.3"
  }
 },
 "nbformat": 4,
 "nbformat_minor": 2
}
