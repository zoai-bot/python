{
 "cells": [
  {
   "cell_type": "markdown",
   "metadata": {},
   "source": [
    "# 6.3 데이터 시각화\n",
    "## 6.3.1 스타벅스 매장분포 시각화"
   ]
  },
  {
   "cell_type": "code",
   "execution_count": null,
   "metadata": {},
   "outputs": [],
   "source": [
    "# 예제 6-51 라이브러리 임포트\n",
    "import pandas as pd\n",
    "import folium\n",
    "import json"
   ]
  },
  {
   "cell_type": "code",
   "execution_count": null,
   "metadata": {},
   "outputs": [],
   "source": [
    "# 예제 6-52  folium 설치\n",
    "! pip install folium"
   ]
  },
  {
   "cell_type": "code",
   "execution_count": null,
   "metadata": {},
   "outputs": [],
   "source": [
    "# 예제 6-53 서울시 스타벅스 매장 목록 데이터 불러오기\n",
    "seoul_starbucks = pd.read_excel('./files/seoul_starbucks_list.xlsx')\n",
    "seoul_starbucks.head()"
   ]
  },
  {
   "cell_type": "code",
   "execution_count": null,
   "metadata": {},
   "outputs": [],
   "source": [
    "# 예제 6-54 folium을 이용한 지도 생성\n",
    "starbucks_map = folium.Map(\n",
    "    location=[37.573050, 126.979189],\n",
    "    tiles='Stamen Terrain',\n",
    "    zoom_start=11\n",
    ")\n",
    "starbucks_map"
   ]
  },
  {
   "cell_type": "code",
   "execution_count": null,
   "metadata": {},
   "outputs": [],
   "source": [
    "# 예제 6-55 지도에 스타벅스 매장 위치를 나타내는 서클 마커 그리기\n",
    "for idx in seoul_starbucks.index:\n",
    "    lat = seoul_starbucks.loc[idx, '위도']\n",
    "    lng = seoul_starbucks.loc[idx, '경도']\n",
    "\n",
    "    folium.CircleMarker(\n",
    "        location=[lat, lng],\n",
    "        fill = True, \n",
    "        fill_color='green', \n",
    "        fill_opacity=1,\n",
    "        color='yellow', \n",
    "        weight=1,\n",
    "        radius=3\n",
    "    ).add_to(starbucks_map)\n",
    "\n",
    "starbucks_map"
   ]
  },
  {
   "cell_type": "code",
   "execution_count": null,
   "metadata": {},
   "outputs": [],
   "source": [
    "# 예제 6-56 스타벅스 매장 타입별 위치 서클 마커 그리기\n",
    "starbucks_map2 = folium.Map(\n",
    "    location=[37.573050, 126.979189],\n",
    "    tiles='Stamen Terrain',\n",
    "    zoom_start=11\n",
    ")\n",
    "\n",
    "for idx in seoul_starbucks.index:\n",
    "    lat = seoul_starbucks.loc[idx, '위도']\n",
    "    lng = seoul_starbucks.loc[idx, '경도']\n",
    "    store_type = seoul_starbucks.loc[idx, '매장타입']\n",
    "    \n",
    "    # 매장 타입별 색상 선택을 위한 조건문\n",
    "    fillColor = ''\n",
    "    if store_type == 'general':\n",
    "        fillColor = 'gray'\n",
    "        size = 1\n",
    "    elif store_type == 'reserve':\n",
    "        fillColor = 'blue'\n",
    "        size = 5\n",
    "    elif store_type == 'generalDT':\n",
    "        fillColor = 'red'\n",
    "        size = 5\n",
    "\n",
    "    folium.CircleMarker(\n",
    "        location=[lat, lng],\n",
    "        color=fillColor,\n",
    "        fill = True,\n",
    "        fill_color = fillColor, \n",
    "        fill_opacity = 1,\n",
    "        weight = 1,\n",
    "        radius = size\n",
    "    ).add_to(starbucks_map2)\n",
    "\n",
    "starbucks_map2"
   ]
  }
 ],
 "metadata": {
  "kernelspec": {
   "display_name": "Python 3",
   "language": "python",
   "name": "python3"
  },
  "language_info": {
   "codemirror_mode": {
    "name": "ipython",
    "version": 3
   },
   "file_extension": ".py",
   "mimetype": "text/x-python",
   "name": "python",
   "nbconvert_exporter": "python",
   "pygments_lexer": "ipython3",
   "version": "3.7.4"
  }
 },
 "nbformat": 4,
 "nbformat_minor": 2
}
