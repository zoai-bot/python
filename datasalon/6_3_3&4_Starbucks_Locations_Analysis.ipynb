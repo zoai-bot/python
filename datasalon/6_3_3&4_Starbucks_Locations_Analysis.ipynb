{
 "cells": [
  {
   "cell_type": "markdown",
   "metadata": {},
   "source": [
    "## 6.3.3 스타벅스 매장 수와 인구수 비교"
   ]
  },
  {
   "cell_type": "code",
   "execution_count": null,
   "metadata": {},
   "outputs": [],
   "source": [
    "# 예제 5-65 라이브러리 임포트\n",
    "import pandas as pd\n",
    "import json\n",
    "import folium"
   ]
  },
  {
   "cell_type": "code",
   "execution_count": null,
   "metadata": {},
   "outputs": [],
   "source": [
    "# 예제 6-66 서울시 시군구별 통계 데이터 불러오기\n",
    "seoul_sgg_stat = pd.read_excel('./files/seoul_sgg_stat.xlsx', thousands = ',')\n",
    "seoul_sgg_stat.head()"
   ]
  },
  {
   "cell_type": "code",
   "execution_count": null,
   "metadata": {},
   "outputs": [],
   "source": [
    "# 예제 6-67 서울시 시군구 행정 경계 지도 파일 불러오기\n",
    "sgg_geojson_file_path = './maps/seoul_sgg.geojson'\n",
    "seoul_sgg_geo_2 = json.load(open(sgg_geojson_file_path, encoding='utf-8'))"
   ]
  },
  {
   "cell_type": "code",
   "execution_count": null,
   "metadata": {},
   "outputs": [],
   "source": [
    "# 예제 6-68  서울시 시군구별 주민등록인구수 단계구분도 지도 시각화\n",
    "starbucks_choropleth = folium.Map(\n",
    "    location=[37.573050, 126.979189],\n",
    "    tiles='CartoDB dark_matter',\n",
    "    zoom_start=11\n",
    ")\n",
    "\n",
    "folium.Choropleth(\n",
    "    geo_data=seoul_sgg_geo_2,\n",
    "    data=seoul_sgg_stat,\n",
    "    columns=['시군구명', '주민등록인구'],\n",
    "    fill_color = 'YlGn',\n",
    "    fill_opacity=0.7,\n",
    "    line_opacity=0.5,\n",
    "    key_on='properties.SIG_KOR_NM'\n",
    "    ).add_to(starbucks_choropleth)\n",
    "\n",
    "starbucks_choropleth"
   ]
  },
  {
   "cell_type": "code",
   "execution_count": null,
   "metadata": {},
   "outputs": [],
   "source": [
    "# 예제 6-69  인구 만 명당 스타벅스 매장 수 칼럼 추가\n",
    "seoul_sgg_stat['만명당_매장수'] = seoul_sgg_stat['스타벅스_매장수']/(seoul_sgg_stat['주민등록인구']/10000)"
   ]
  },
  {
   "cell_type": "code",
   "execution_count": null,
   "metadata": {},
   "outputs": [],
   "source": [
    "# 예제 6-70  인구 만 명당 스타벅스 매장 수 지도 시각화\n",
    "SGG_GEOJSON_FILE_PATH = './maps/seoul_sgg.geojson'\n",
    "seoul_sgg_geo_1 = json.load(open(SGG_GEOJSON_FILE_PATH, encoding='utf-8'))\n",
    "\n",
    "viz_map_1 = folium.Map(\n",
    "    location=[37.573050, 126.979189],\n",
    "    tiles='CartoDB dark_matter',\n",
    "    zoom_start=11\n",
    ")\n",
    "\n",
    "# 지도 스타일 지정 함수\n",
    "def style_function(feature):\n",
    "    return {\n",
    "        'opacity': 0.7,\n",
    "        'weight': 1,\n",
    "        'fillOpacity':0,\n",
    "    }\n",
    "\n",
    "folium.GeoJson(\n",
    "    seoul_sgg_geo_2,\n",
    "    style_function=style_function,\n",
    ").add_to(viz_map_1)\n",
    "# 만명당 매장수 기준 상위 10% 추출 값\n",
    "top = seoul_sgg_stat ['만명당_매장수'].quantile(0.9)\n",
    "for idx in seoul_sgg_stat.index:\n",
    "    lat = seoul_sgg_stat.loc[idx, '위도']\n",
    "    lng = seoul_sgg_stat.loc[idx, '경도']\n",
    "    r = seoul_sgg_stat.loc[idx, '만명당_매장수']\n",
    "    if r > top:\n",
    "        fillColor = '#FF3300' # (Red)\n",
    "    else:\n",
    "        fillColor = '#CCFF33' # (Green)\n",
    "    \n",
    "    folium.CircleMarker(\n",
    "        location=[lat, lng], \n",
    "        color='#FFFF00',     # (Yellow)\n",
    "        fill_color=fillColor, \n",
    "        fill_opacity=0.7,\n",
    "        weight=1.5,\n",
    "        radius= r * 10\n",
    "    ).add_to(viz_map_1)\n",
    "\n",
    "viz_map_1"
   ]
  },
  {
   "cell_type": "markdown",
   "metadata": {},
   "source": [
    "## 6.3.4 스타벅스 매장 수와 사업체 수 비교"
   ]
  },
  {
   "cell_type": "code",
   "execution_count": null,
   "metadata": {},
   "outputs": [],
   "source": [
    "# 예제 6-71 신규 칼럼을 생성해 값 입력\n",
    "seoul_sgg_stat['종사자수_만명당_매장수'] = seoul_sgg_stat['스타벅스_매장수']/(seoul_sgg_stat['종사자수']/10000)\n",
    "seoul_sgg_stat.head()"
   ]
  },
  {
   "cell_type": "code",
   "execution_count": null,
   "metadata": {},
   "outputs": [],
   "source": [
    "# 예제 6-72 종사자 수 1만 명당 스타벅스 매장 수 시각화\n",
    "seoul_sgg_geo_1 = json.load(open(SGG_GEOJSON_FILE_PATH, encoding='utf-8'))\n",
    "\n",
    "viz_map_1 = folium.Map(\n",
    "    location=[37.573050, 126.979189],\n",
    "    tiles='CartoDB dark_matter',\n",
    "    zoom_start=11\n",
    ")\n",
    "\n",
    "folium.GeoJson(\n",
    "    seoul_sgg_geo_1,\n",
    "    style_function=style_function,\n",
    ").add_to(viz_map_1)\n",
    "\n",
    "top = seoul_sgg_stat['종사자수_만명당_매장수'].quantile(0.9)\n",
    "for idx in seoul_sgg_stat.index:\n",
    "    name = seoul_sgg_stat.at[idx, '시군구명']\n",
    "    lat = seoul_sgg_stat.loc[idx, '위도']\n",
    "    lng = seoul_sgg_stat.loc[idx, '경도']\n",
    "    r = seoul_sgg_stat.loc[idx, '종사자수_만명당_매장수']\n",
    "    \n",
    "    if r > top:\n",
    "        fillColor = '#FF3300'\n",
    "    else:\n",
    "        fillColor = '#CCFF33'\n",
    "    \n",
    "    folium.CircleMarker(\n",
    "        location=[lat, lng], \n",
    "        color='#FFFF00', \n",
    "        fill_color=fillColor, \n",
    "        fill_opacity=0.7,\n",
    "        weight=1.5,\n",
    "        radius= r * 10\n",
    "    ).add_to(viz_map_1)\n",
    "\n",
    "viz_map_1"
   ]
  }
 ],
 "metadata": {
  "kernelspec": {
   "display_name": "Python 3",
   "language": "python",
   "name": "python3"
  },
  "language_info": {
   "codemirror_mode": {
    "name": "ipython",
    "version": 3
   },
   "file_extension": ".py",
   "mimetype": "text/x-python",
   "name": "python",
   "nbconvert_exporter": "python",
   "pygments_lexer": "ipython3",
   "version": "3.7.4"
  }
 },
 "nbformat": 4,
 "nbformat_minor": 2
}
